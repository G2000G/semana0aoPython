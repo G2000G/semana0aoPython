{
  "nbformat": 4,
  "nbformat_minor": 0,
  "metadata": {
    "colab": {
      "name": "0 ao Python Dia4.ipynb",
      "provenance": [],
      "authorship_tag": "ABX9TyMbYpps1I8fJ8JFqO7CVarm",
      "include_colab_link": true
    },
    "kernelspec": {
      "name": "python3",
      "display_name": "Python 3"
    }
  },
  "cells": [
    {
      "cell_type": "markdown",
      "metadata": {
        "id": "view-in-github",
        "colab_type": "text"
      },
      "source": [
        "<a href=\"https://colab.research.google.com/github/G2000G/semana0aoPython/blob/main/0_ao_Python_Dia4.ipynb\" target=\"_parent\"><img src=\"https://colab.research.google.com/assets/colab-badge.svg\" alt=\"Open In Colab\"/></a>"
      ]
    },
    {
      "cell_type": "markdown",
      "metadata": {
        "id": "SPGc6IhRbUzF"
      },
      "source": [
        "ReverseWords (codewars-resposta)"
      ]
    },
    {
      "cell_type": "code",
      "metadata": {
        "id": "ib6x_nQWZw_E"
      },
      "source": [
        "def reverse_words(s):\r\n",
        "  lista_palavras = s.split() #split coloca todas as palavras em uma lista dividindo pelo espaço\r\n",
        "  lista_invertida = lista_palavras[::-1] # '::' pega a lista toda, '-1' serve pra inverter\r\n",
        "  return ' '.join(lista_invertida)\r\n"
      ],
      "execution_count": null,
      "outputs": []
    },
    {
      "cell_type": "markdown",
      "metadata": {
        "id": "IhhuqejtcgcA"
      },
      "source": [
        "#Escopo de Funções"
      ]
    },
    {
      "cell_type": "code",
      "metadata": {
        "colab": {
          "base_uri": "https://localhost:8080/"
        },
        "id": "PcZSWgZBclhW",
        "outputId": "51d13bc7-c559-4630-be57-b2f85bbc128e"
      },
      "source": [
        "letra = 'a'\r\n",
        "\r\n",
        "def fq():  #função qualquer\r\n",
        "  letra = 'b'\r\n",
        "  print(letra)\r\n",
        "\r\n",
        "fq()\r\n",
        "print(letra)"
      ],
      "execution_count": null,
      "outputs": [
        {
          "output_type": "stream",
          "text": [
            "b\n",
            "a\n"
          ],
          "name": "stdout"
        }
      ]
    },
    {
      "cell_type": "markdown",
      "metadata": {
        "id": "km4CwO7VdtGC"
      },
      "source": [
        "# Dicionários"
      ]
    },
    {
      "cell_type": "code",
      "metadata": {
        "colab": {
          "base_uri": "https://localhost:8080/"
        },
        "id": "nsrE6AT9dwV8",
        "outputId": "b0716a17-9854-4863-8a65-d60d9d317896"
      },
      "source": [
        "#A diferença da lista é que aqui a ordem não importa, então é mais para agrupar informações gerais\r\n",
        "carro = {'modelo': 'celta', 'ano': 2000} #esquema de chave-valor\r\n",
        "\r\n",
        "print(carro['modelo'])\r\n",
        "print(carro['ano'])\r\n",
        "print('---------')\r\n",
        "\r\n",
        "for chave, valor in carro.items():\r\n",
        "  print(chave)\r\n",
        "  print(valor)"
      ],
      "execution_count": null,
      "outputs": [
        {
          "output_type": "stream",
          "text": [
            "celta\n",
            "2000\n",
            "---------\n",
            "modelo\n",
            "celta\n",
            "ano\n",
            "2000\n"
          ],
          "name": "stdout"
        }
      ]
    },
    {
      "cell_type": "markdown",
      "metadata": {
        "id": "S9S-3td3j01l"
      },
      "source": [
        "##Usando dados de uma planilha .csv"
      ]
    },
    {
      "cell_type": "code",
      "metadata": {
        "colab": {
          "base_uri": "https://localhost:8080/"
        },
        "id": "J73iDklUhBka",
        "outputId": "3542bf7c-5a42-46e5-9c4d-d11639e8c8af"
      },
      "source": [
        "import csv  #blibioteca com umas funções para usar planilhas\r\n",
        "\r\n",
        "def carregar_arquivo(arq):\r\n",
        "  return open(arq, newline='')\r\n",
        "\r\n",
        "def obter_dados(arq):\r\n",
        "  leitor = csv.DictReader(arq, delimiter=',')\r\n",
        "  return leitor\r\n",
        "  \r\n",
        "#Para adicionar o arquivo só clicar na pasta aí do lado esquerdo e depois no papel com a seta pra cima\r\n",
        "arq_csv = carregar_arquivo('CarRentalData.csv')\r\n",
        "dados = obter_dados(arq_csv)\r\n",
        "\r\n",
        "teslas_alugados = 0\r\n",
        "\r\n",
        "for carro in dados: #percorre a porra toda, é isto\r\n",
        "  carro = dict(carro)\r\n",
        "  if carro['vehicle.make'] == 'Tesla':  #contar um dado especifico\r\n",
        "    teslas_alugados += 1\r\n",
        "\r\n",
        "print(teslas_alugados)"
      ],
      "execution_count": null,
      "outputs": [
        {
          "output_type": "stream",
          "text": [
            "598\n"
          ],
          "name": "stdout"
        }
      ]
    },
    {
      "cell_type": "code",
      "metadata": {
        "id": "w6nJ7geZxDaq"
      },
      "source": [
        "import random\r\n",
        "\r\n",
        "arq_csv = carregar_arquivo('sorteio.csv') #anotei só de meme\r\n",
        "dados = obter_dados(arq_csv)\r\n",
        "\r\n",
        "dados = list(dados)\r\n",
        "\r\n",
        "r = dict(random.choice(dados))\r\n",
        "\r\n",
        "print(r)"
      ],
      "execution_count": null,
      "outputs": []
    }
  ]
}