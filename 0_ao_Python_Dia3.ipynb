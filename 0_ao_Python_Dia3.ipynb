{
  "nbformat": 4,
  "nbformat_minor": 0,
  "metadata": {
    "colab": {
      "name": "0 ao Python Dia3.ipynb",
      "provenance": [],
      "authorship_tag": "ABX9TyPdHvZSX5+yKo0G1TD4rGHL",
      "include_colab_link": true
    },
    "kernelspec": {
      "name": "python3",
      "display_name": "Python 3"
    }
  },
  "cells": [
    {
      "cell_type": "markdown",
      "metadata": {
        "id": "view-in-github",
        "colab_type": "text"
      },
      "source": [
        "<a href=\"https://colab.research.google.com/github/G2000G/semana0aoPython/blob/main/0_ao_Python_Dia3.ipynb\" target=\"_parent\"><img src=\"https://colab.research.google.com/assets/colab-badge.svg\" alt=\"Open In Colab\"/></a>"
      ]
    },
    {
      "cell_type": "markdown",
      "metadata": {
        "id": "GGshzPcnbW0z"
      },
      "source": [
        "# Listas e Tuplas"
      ]
    },
    {
      "cell_type": "code",
      "metadata": {
        "colab": {
          "base_uri": "https://localhost:8080/"
        },
        "id": "1jNxIL-DM8Af",
        "outputId": "877d9538-5e88-45c5-bc4c-28fbd624e064"
      },
      "source": [
        "# Pegar menor numero de uma lista\r\n",
        "lista = [5,3,12,8,21]\r\n",
        "cres = min(lista)\r\n",
        "print(cres)"
      ],
      "execution_count": null,
      "outputs": [
        {
          "output_type": "stream",
          "text": [
            "3\n"
          ],
          "name": "stdout"
        }
      ]
    },
    {
      "cell_type": "code",
      "metadata": {
        "colab": {
          "base_uri": "https://localhost:8080/"
        },
        "id": "z5jW7UOAUji_",
        "outputId": "622831b8-1371-45f7-b20c-a9d6489d0fbf"
      },
      "source": [
        "# Tuplas x Listas\r\n",
        "tupla = (1,2,3,)\r\n",
        "lista = [1,2,3] \r\n",
        "\r\n",
        "lista[0] = 10\r\n",
        "print(lista)\r\n",
        "\r\n",
        "#Não rola alterar tupla\r\n",
        "print(tupla[0])\r\n",
        "\r\n",
        "a,b,c = tupla\r\n",
        "print(b , c, a)"
      ],
      "execution_count": null,
      "outputs": [
        {
          "output_type": "stream",
          "text": [
            "[10, 2, 3]\n",
            "1\n",
            "2 3 1\n"
          ],
          "name": "stdout"
        }
      ]
    },
    {
      "cell_type": "code",
      "metadata": {
        "colab": {
          "base_uri": "https://localhost:8080/"
        },
        "id": "yeVM7a2fV2u7",
        "outputId": "362cd86a-2450-48ad-df52-59f5f1f02b31"
      },
      "source": [
        "# Troca de variáveis em tuplas\r\n",
        "a = 1\r\n",
        "b = 2\r\n",
        "\r\n",
        "a, b = b, a\r\n",
        "\r\n",
        "print(a)\r\n",
        "print(b)"
      ],
      "execution_count": null,
      "outputs": [
        {
          "output_type": "stream",
          "text": [
            "2\n",
            "1\n"
          ],
          "name": "stdout"
        }
      ]
    },
    {
      "cell_type": "code",
      "metadata": {
        "colab": {
          "base_uri": "https://localhost:8080/"
        },
        "id": "8JTw0dtkUBd2",
        "outputId": "c09cbfcc-8aaa-45b5-ecce-e00ec1a19948"
      },
      "source": [
        "#Juntando Tuplas\r\n",
        "a = (1, 2, 3, 4,)\r\n",
        "b = ('a', 3, 1, 't',)\r\n",
        "c = a + b\r\n",
        "print(c)"
      ],
      "execution_count": null,
      "outputs": [
        {
          "output_type": "stream",
          "text": [
            "(1, 2, 3, 4, 'a', 3, 1, 't')\n"
          ],
          "name": "stdout"
        }
      ]
    },
    {
      "cell_type": "markdown",
      "metadata": {
        "id": "kGxCRDMYbbch"
      },
      "source": [
        "# elif ( o famoso else if)\r\n"
      ]
    },
    {
      "cell_type": "code",
      "metadata": {
        "colab": {
          "base_uri": "https://localhost:8080/"
        },
        "id": "h52z40pQXApE",
        "outputId": "e87008f7-d11b-4fd1-db2e-fc1d2558deab"
      },
      "source": [
        "# elif\r\n",
        "momento = 'dia'\r\n",
        "\r\n",
        "if momento == 'dia':\r\n",
        "  print('Bom Dia')\r\n",
        "elif momento == 'tarde':\r\n",
        "  print('Boa Tarde')\r\n",
        "elif momento == 'noite':\r\n",
        "  print('Boa Noite')\r\n",
        "else:\r\n",
        "  print('Ahh vai te tomar no cu!')"
      ],
      "execution_count": null,
      "outputs": [
        {
          "output_type": "stream",
          "text": [
            "Bom Dia\n"
          ],
          "name": "stdout"
        }
      ]
    },
    {
      "cell_type": "markdown",
      "metadata": {
        "id": "QUU71-YLbRj6"
      },
      "source": [
        "# for"
      ]
    },
    {
      "cell_type": "code",
      "metadata": {
        "colab": {
          "base_uri": "https://localhost:8080/"
        },
        "id": "caL_KKHhYb5m",
        "outputId": "14644b0c-6367-41bd-cc98-a2264cc36603"
      },
      "source": [
        "for elemento in range(5): #range vai contando de 1 em 1, determina quantas vezes passa pelo for\r\n",
        "  print(f'passando {elemento} vez(es)')"
      ],
      "execution_count": null,
      "outputs": [
        {
          "output_type": "stream",
          "text": [
            "passando 0 vez(es)\n",
            "passando 1 vez(es)\n",
            "passando 2 vez(es)\n",
            "passando 3 vez(es)\n",
            "passando 4 vez(es)\n"
          ],
          "name": "stdout"
        }
      ]
    },
    {
      "cell_type": "code",
      "metadata": {
        "colab": {
          "base_uri": "https://localhost:8080/"
        },
        "id": "MQN3hiV6ZUDg",
        "outputId": "b04fc4be-02ef-475f-9358-afeeb65085a4"
      },
      "source": [
        "for numero in range(1,10):\r\n",
        "  print(f'passou pelo numero {numero}')\r\n",
        "  if numero%2 == 0: #achar par\r\n",
        "    print(f'numero par {numero}')\r\n",
        "    break\r\n"
      ],
      "execution_count": null,
      "outputs": [
        {
          "output_type": "stream",
          "text": [
            "passou pelo numero 1\n",
            "passou pelo numero 2\n",
            "numero par 2\n"
          ],
          "name": "stdout"
        }
      ]
    },
    {
      "cell_type": "markdown",
      "metadata": {
        "id": "B0tWNedabjtC"
      },
      "source": [
        "# Funções"
      ]
    },
    {
      "cell_type": "code",
      "metadata": {
        "colab": {
          "base_uri": "https://localhost:8080/"
        },
        "id": "PtcIWe5Tbm-4",
        "outputId": "378615cc-cd91-4f84-c48c-6e8ed30b3993"
      },
      "source": [
        "def mult_2(number): #def = definir função\r\n",
        "  print(f'Resultado de 2x{number}...')\r\n",
        "  return number*2\r\n",
        "\r\n",
        "result = mult_2(5)\r\n",
        "print(result)\r\n",
        "\r\n",
        "print(mult_2(result))"
      ],
      "execution_count": null,
      "outputs": [
        {
          "output_type": "stream",
          "text": [
            "Resultado de 2x5...\n",
            "10\n",
            "Resultado de 2x10...\n",
            "20\n"
          ],
          "name": "stdout"
        }
      ]
    },
    {
      "cell_type": "code",
      "metadata": {
        "colab": {
          "base_uri": "https://localhost:8080/"
        },
        "id": "q_9qHtZBc6wz",
        "outputId": "be5704a7-f2b7-4a5c-e0e6-b38af68c94c3"
      },
      "source": [
        "def mult(a, b=10): #b vai receber o valor padrão se não for escrito\r\n",
        "  print(f'Calculando {a}x{b}...')\r\n",
        "  return a * b\r\n",
        "\r\n",
        "result = mult(3, 4)\r\n",
        "print(result)\r\n",
        "\r\n",
        "result2 = mult(2, result)\r\n",
        "print(result2)\r\n",
        "\r\n",
        "print(mult(result, result2))\r\n",
        "\r\n",
        "print(mult(5)) #não definindo o valor de b"
      ],
      "execution_count": null,
      "outputs": [
        {
          "output_type": "stream",
          "text": [
            "Calculando 3x4...\n",
            "12\n",
            "Calculando 2x12...\n",
            "24\n",
            "Calculando 12x24...\n",
            "288\n",
            "Calculando 5x10...\n",
            "50\n"
          ],
          "name": "stdout"
        }
      ]
    },
    {
      "cell_type": "code",
      "metadata": {
        "colab": {
          "base_uri": "https://localhost:8080/"
        },
        "id": "_kJX6hKnfCRt",
        "outputId": "ede1d9a6-49ce-4bca-f8b1-e31731f52bf8"
      },
      "source": [
        "def return_varios_valores(a, b=5):\r\n",
        "  soma = a+b\r\n",
        "  mult = a*b\r\n",
        "  return soma,mult  #tupla\r\n",
        "\r\n",
        "result = return_varios_valores(3, 7)\r\n",
        "print(result)\r\n",
        "\r\n",
        "r_soma, r_mult = return_varios_valores(3, 7)\r\n",
        "print(f'Soma: {r_soma}')\r\n",
        "print(f'Multiplicação: {r_mult}')"
      ],
      "execution_count": null,
      "outputs": [
        {
          "output_type": "stream",
          "text": [
            "(10, 21)\n",
            "Soma: 10\n",
            "Multiplicação: 21\n"
          ],
          "name": "stdout"
        }
      ]
    }
  ]
}