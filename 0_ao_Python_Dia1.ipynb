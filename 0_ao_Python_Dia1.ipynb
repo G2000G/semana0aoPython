{
  "nbformat": 4,
  "nbformat_minor": 0,
  "metadata": {
    "colab": {
      "name": "0 ao Python Dia1.ipynb",
      "provenance": [],
      "authorship_tag": "ABX9TyMMAmL76WKHvcXm23V0pBEB",
      "include_colab_link": true
    },
    "kernelspec": {
      "name": "python3",
      "display_name": "Python 3"
    }
  },
  "cells": [
    {
      "cell_type": "markdown",
      "metadata": {
        "id": "view-in-github",
        "colab_type": "text"
      },
      "source": [
        "<a href=\"https://colab.research.google.com/github/G2000G/semana0aoPython/blob/main/0_ao_Python_Dia1.ipynb\" target=\"_parent\"><img src=\"https://colab.research.google.com/assets/colab-badge.svg\" alt=\"Open In Colab\"/></a>"
      ]
    },
    {
      "cell_type": "markdown",
      "metadata": {
        "id": "1WbH8tP7-w5s"
      },
      "source": [
        "# Criação De Variáveis\r\n"
      ]
    },
    {
      "cell_type": "markdown",
      "metadata": {
        "id": "2-3nu2zKDI1y"
      },
      "source": [
        "## Inteiro"
      ]
    },
    {
      "cell_type": "code",
      "metadata": {
        "colab": {
          "base_uri": "https://localhost:8080/"
        },
        "id": "Vo2h0nWe-T3e",
        "outputId": "8446e180-2b7f-4f9c-bfdc-54008444db91"
      },
      "source": [
        "variavel = 2\r\n",
        "print(variavel)\r\n",
        "type (variavel)"
      ],
      "execution_count": null,
      "outputs": [
        {
          "output_type": "stream",
          "text": [
            "2\n"
          ],
          "name": "stdout"
        },
        {
          "output_type": "execute_result",
          "data": {
            "text/plain": [
              "int"
            ]
          },
          "metadata": {
            "tags": []
          },
          "execution_count": 8
        }
      ]
    },
    {
      "cell_type": "markdown",
      "metadata": {
        "id": "S8Q8ZVFxD6e9"
      },
      "source": [
        "## Float"
      ]
    },
    {
      "cell_type": "code",
      "metadata": {
        "colab": {
          "base_uri": "https://localhost:8080/"
        },
        "id": "wBhrUtdu_3w0",
        "outputId": "c1ca305f-fb74-40cd-cb02-aa6ab932923b"
      },
      "source": [
        "preço_prod = 2.50\r\n",
        "print(preço_prod)\r\n",
        "type(preço_prod)"
      ],
      "execution_count": null,
      "outputs": [
        {
          "output_type": "stream",
          "text": [
            "2.5\n"
          ],
          "name": "stdout"
        },
        {
          "output_type": "execute_result",
          "data": {
            "text/plain": [
              "float"
            ]
          },
          "metadata": {
            "tags": []
          },
          "execution_count": 7
        }
      ]
    },
    {
      "cell_type": "markdown",
      "metadata": {
        "id": "jQBfmj84D_7p"
      },
      "source": [
        "## String"
      ]
    },
    {
      "cell_type": "code",
      "metadata": {
        "colab": {
          "base_uri": "https://localhost:8080/"
        },
        "id": "HszRulapBmK8",
        "outputId": "e197fa2f-88da-4d67-e77a-70eb95c6e5a3"
      },
      "source": [
        "variavel2 = \"Abacaxi\"\r\n",
        "print(variavel2)\r\n",
        "type(variavel2)"
      ],
      "execution_count": null,
      "outputs": [
        {
          "output_type": "stream",
          "text": [
            "Abacaxi\n"
          ],
          "name": "stdout"
        },
        {
          "output_type": "execute_result",
          "data": {
            "text/plain": [
              "str"
            ]
          },
          "metadata": {
            "tags": []
          },
          "execution_count": 9
        }
      ]
    },
    {
      "cell_type": "markdown",
      "metadata": {
        "id": "me40UTKPEEhF"
      },
      "source": [
        "## Boolean"
      ]
    },
    {
      "cell_type": "code",
      "metadata": {
        "colab": {
          "base_uri": "https://localhost:8080/"
        },
        "id": "1HrK2eRxB6SS",
        "outputId": "a646cd27-5a3d-4605-e621-d9d2ba2b4742"
      },
      "source": [
        "escolha = True\r\n",
        "print(escolha)\r\n",
        "type(escolha)"
      ],
      "execution_count": null,
      "outputs": [
        {
          "output_type": "stream",
          "text": [
            "True\n"
          ],
          "name": "stdout"
        },
        {
          "output_type": "execute_result",
          "data": {
            "text/plain": [
              "bool"
            ]
          },
          "metadata": {
            "tags": []
          },
          "execution_count": 10
        }
      ]
    },
    {
      "cell_type": "code",
      "metadata": {
        "colab": {
          "base_uri": "https://localhost:8080/"
        },
        "id": "yCEALduQFsVr",
        "outputId": "d97209d1-bb60-4d65-e1c6-a0c5ca5e2800"
      },
      "source": [
        "escolha2 = False\r\n",
        "print(escolha2)"
      ],
      "execution_count": null,
      "outputs": [
        {
          "output_type": "stream",
          "text": [
            "False\n"
          ],
          "name": "stdout"
        }
      ]
    },
    {
      "cell_type": "markdown",
      "metadata": {
        "id": "fxRbM6FbC-m9"
      },
      "source": [
        "## Listas"
      ]
    },
    {
      "cell_type": "code",
      "metadata": {
        "colab": {
          "base_uri": "https://localhost:8080/"
        },
        "id": "ZYD6k9LdDBsr",
        "outputId": "62adcd40-97d6-4edd-c350-2a7f7a6b4fd1"
      },
      "source": [
        "lista = [1,2,3,4,5,6,7,8]\r\n",
        "print(lista)"
      ],
      "execution_count": null,
      "outputs": [
        {
          "output_type": "stream",
          "text": [
            "[1, 2, 3, 4, 5, 6, 7, 8]\n"
          ],
          "name": "stdout"
        }
      ]
    },
    {
      "cell_type": "code",
      "metadata": {
        "colab": {
          "base_uri": "https://localhost:8080/"
        },
        "id": "NZPWj17qDdnK",
        "outputId": "773ca419-c0e1-411a-9dee-b9401b42bfee"
      },
      "source": [
        "lista2 = [True,False,False,True]\r\n",
        "print(lista2)"
      ],
      "execution_count": null,
      "outputs": [
        {
          "output_type": "stream",
          "text": [
            "[True, False, False, True]\n"
          ],
          "name": "stdout"
        }
      ]
    },
    {
      "cell_type": "code",
      "metadata": {
        "colab": {
          "base_uri": "https://localhost:8080/"
        },
        "id": "A7TI5CNiDn28",
        "outputId": "ad494f28-91e1-4c9f-d0ec-7c3529f1ab6e"
      },
      "source": [
        "lista3 = [1, 'Gustavo',True,2.48]\r\n",
        "print(lista3)"
      ],
      "execution_count": null,
      "outputs": [
        {
          "output_type": "stream",
          "text": [
            "[1, 'Gustavo', True, 2.48]\n"
          ],
          "name": "stdout"
        }
      ]
    },
    {
      "cell_type": "markdown",
      "metadata": {
        "id": "3RFb9qDmEOgD"
      },
      "source": [
        "# Condição"
      ]
    },
    {
      "cell_type": "code",
      "metadata": {
        "colab": {
          "base_uri": "https://localhost:8080/"
        },
        "id": "g4wGZWSMESCy",
        "outputId": "83ba9461-43c5-4e70-e344-6cf0ccd39b04"
      },
      "source": [
        "if 10>2:\r\n",
        "  print('é maior')\r\n",
        "else:\r\n",
        "  print('Não é maior')  "
      ],
      "execution_count": null,
      "outputs": [
        {
          "output_type": "stream",
          "text": [
            "é maior\n"
          ],
          "name": "stdout"
        }
      ]
    },
    {
      "cell_type": "code",
      "metadata": {
        "colab": {
          "base_uri": "https://localhost:8080/"
        },
        "id": "rSndSVlfEsb0",
        "outputId": "87571696-3939-4e37-c178-33e21a5c03bc"
      },
      "source": [
        "valor1 = 10\r\n",
        "valor2 = 4\r\n",
        "if valor1>valor2:\r\n",
        "  print(valor1, 'é maior')\r\n",
        "else:\r\n",
        "  print('Não é maior')  "
      ],
      "execution_count": null,
      "outputs": [
        {
          "output_type": "stream",
          "text": [
            "10 é maior\n"
          ],
          "name": "stdout"
        }
      ]
    }
  ]
}