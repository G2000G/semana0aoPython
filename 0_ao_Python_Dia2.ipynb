{
  "nbformat": 4,
  "nbformat_minor": 0,
  "metadata": {
    "colab": {
      "name": "0 ao Python Dia2.ipynb",
      "provenance": [],
      "collapsed_sections": [],
      "authorship_tag": "ABX9TyOVF5O1LjyDFCXqcPg2mlVE",
      "include_colab_link": true
    },
    "kernelspec": {
      "name": "python3",
      "display_name": "Python 3"
    }
  },
  "cells": [
    {
      "cell_type": "markdown",
      "metadata": {
        "id": "view-in-github",
        "colab_type": "text"
      },
      "source": [
        "<a href=\"https://colab.research.google.com/github/G2000G/semana0aoPython/blob/main/0_ao_Python_Dia2.ipynb\" target=\"_parent\"><img src=\"https://colab.research.google.com/assets/colab-badge.svg\" alt=\"Open In Colab\"/></a>"
      ]
    },
    {
      "cell_type": "code",
      "metadata": {
        "colab": {
          "base_uri": "https://localhost:8080/"
        },
        "id": "DOeO8glh6vDP",
        "outputId": "8879f72b-e645-4353-8db8-6d76f78ec428"
      },
      "source": [
        "lista1 = [10,20,30,40]\r\n",
        "for numero in lista1:\r\n",
        "  print(numero)\r\n",
        "  print(2*numero)\r\n",
        "  print('-----')\r\n",
        "print(lista1[2])"
      ],
      "execution_count": null,
      "outputs": [
        {
          "output_type": "stream",
          "text": [
            "10\n",
            "20\n",
            "-----\n",
            "20\n",
            "40\n",
            "-----\n",
            "30\n",
            "60\n",
            "-----\n",
            "40\n",
            "80\n",
            "-----\n",
            "30\n"
          ],
          "name": "stdout"
        }
      ]
    },
    {
      "cell_type": "code",
      "metadata": {
        "colab": {
          "base_uri": "https://localhost:8080/"
        },
        "id": "rq6cqjfqNai4",
        "outputId": "a3a32fad-bb64-46ef-bbdd-19ce3ecc924e"
      },
      "source": [
        "zombies = ['z1', 'z3', 'z4', 'z2']\r\n",
        "for zombie in zombies:\r\n",
        "  print('Nome:', zombie)\r\n",
        "print(zombies)\r\n",
        "zombies.sort()\r\n",
        "print(zombies) \r\n",
        "zombies[1:3]"
      ],
      "execution_count": null,
      "outputs": [
        {
          "output_type": "stream",
          "text": [
            "Nome: z1\n",
            "Nome: z3\n",
            "Nome: z4\n",
            "Nome: z2\n",
            "['z1', 'z3', 'z4', 'z2']\n",
            "['z1', 'z2', 'z3', 'z4']\n"
          ],
          "name": "stdout"
        },
        {
          "output_type": "execute_result",
          "data": {
            "text/plain": [
              "['z2', 'z3']"
            ]
          },
          "metadata": {
            "tags": []
          },
          "execution_count": 27
        }
      ]
    },
    {
      "cell_type": "code",
      "metadata": {
        "colab": {
          "base_uri": "https://localhost:8080/",
          "height": 103
        },
        "id": "pI-rXKc8PyTU",
        "outputId": "450f128b-ae35-45b6-84d8-156e9fe5e09e"
      },
      "source": [
        "nome = 'Vagabundo'\r\n",
        "print(nome)\r\n",
        "print(nome[:2])\r\n",
        "print(nome[2:4])\r\n",
        "print(nome[4:])\r\n",
        "nome.upper() "
      ],
      "execution_count": null,
      "outputs": [
        {
          "output_type": "stream",
          "text": [
            "Vagabundo\n",
            "Va\n",
            "ga\n",
            "bundo\n"
          ],
          "name": "stdout"
        },
        {
          "output_type": "execute_result",
          "data": {
            "application/vnd.google.colaboratory.intrinsic+json": {
              "type": "string"
            },
            "text/plain": [
              "'VAGABUNDO'"
            ]
          },
          "metadata": {
            "tags": []
          },
          "execution_count": 36
        }
      ]
    },
    {
      "cell_type": "code",
      "metadata": {
        "colab": {
          "base_uri": "https://localhost:8080/",
          "height": 35
        },
        "id": "W2Y9eCLHReDG",
        "outputId": "d8f93fc3-c468-4350-f389-fa3812062d54"
      },
      "source": [
        "nome.title() #Primeira letra Maiuscula "
      ],
      "execution_count": null,
      "outputs": [
        {
          "output_type": "execute_result",
          "data": {
            "application/vnd.google.colaboratory.intrinsic+json": {
              "type": "string"
            },
            "text/plain": [
              "'Vagabundo'"
            ]
          },
          "metadata": {
            "tags": []
          },
          "execution_count": 37
        }
      ]
    },
    {
      "cell_type": "code",
      "metadata": {
        "colab": {
          "base_uri": "https://localhost:8080/"
        },
        "id": "c9HkxOirRouC",
        "outputId": "23bb6461-dd0d-419e-c950-f814f5f00606"
      },
      "source": [
        "for letra in nome:\r\n",
        "  print('Letra:', letra)"
      ],
      "execution_count": null,
      "outputs": [
        {
          "output_type": "stream",
          "text": [
            "Letra: V\n",
            "Letra: a\n",
            "Letra: g\n",
            "Letra: a\n",
            "Letra: b\n",
            "Letra: u\n",
            "Letra: n\n",
            "Letra: d\n",
            "Letra: o\n"
          ],
          "name": "stdout"
        }
      ]
    }
  ]
}