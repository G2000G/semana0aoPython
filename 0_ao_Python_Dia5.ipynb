{
  "nbformat": 4,
  "nbformat_minor": 0,
  "metadata": {
    "colab": {
      "name": "0 ao Python Dia5.ipynb",
      "provenance": [],
      "authorship_tag": "ABX9TyPGdWxsydRA7kiks8mh3BwQ",
      "include_colab_link": true
    },
    "kernelspec": {
      "name": "python3",
      "display_name": "Python 3"
    }
  },
  "cells": [
    {
      "cell_type": "markdown",
      "metadata": {
        "id": "view-in-github",
        "colab_type": "text"
      },
      "source": [
        "<a href=\"https://colab.research.google.com/github/G2000G/semana0aoPython/blob/main/0_ao_Python_Dia5.ipynb\" target=\"_parent\"><img src=\"https://colab.research.google.com/assets/colab-badge.svg\" alt=\"Open In Colab\"/></a>"
      ]
    },
    {
      "cell_type": "code",
      "metadata": {
        "id": "V7OjI9XFYgQN"
      },
      "source": [
        "!pip install -q matplotlib  #instalando biblioteca de gerar graficos\r\n",
        "from matplotlib import pyplot as plt  #renomeando a blibioteca importada\r\n",
        "import csv"
      ],
      "execution_count": null,
      "outputs": []
    },
    {
      "cell_type": "code",
      "metadata": {
        "colab": {
          "base_uri": "https://localhost:8080/",
          "height": 279
        },
        "id": "Cs-hXo2haWyO",
        "outputId": "80d18e48-572b-4174-ba80-be085f53df06"
      },
      "source": [
        "def obter_dados():\r\n",
        "  with open('CarRentalData.csv') as f:\r\n",
        "    return [dado_carro for dado_carro in csv.DictReader(f)]\r\n",
        "\r\n",
        "def contar_carros_eletricos_por_ano(dados):\r\n",
        "  # o objetivo é conseguir um dicionario nesse formato:\r\n",
        "  # {'2015': 100, '2016': 120}\r\n",
        "  cont = {}\r\n",
        "\r\n",
        "  for carro in dados:\r\n",
        "    if carro['fuelType'] == 'ELECTRIC':\r\n",
        "      ano = carro['vehicle.year']\r\n",
        "\r\n",
        "      qtd = cont.get(ano, 0) + 1\r\n",
        "      cont.update({ano: qtd})\r\n",
        "      \r\n",
        "      # print(cont)\r\n",
        "  return cont\r\n",
        "\r\n",
        "def pegar_dados_de_tuplas(lista_de_dados, posicao):\r\n",
        "  valores = []\r\n",
        "\r\n",
        "  for valor in lista_de_dados:\r\n",
        "    valores.append(valor[posicao])\r\n",
        "  return valores\r\n",
        "\r\n",
        "dados_carros = obter_dados()\r\n",
        "carros_eletricos_por_ano = contar_carros_eletricos_por_ano(dados_carros)\r\n",
        "\r\n",
        "#Ordena os dados para o gráfico\r\n",
        "carros_ordenados = sorted(carros_eletricos_por_ano.items()) \r\n",
        "\r\n",
        "#Separação dos dados em duas listas: ano e quantidade\r\n",
        "anos = pegar_dados_de_tuplas(carros_ordenados, 0)\r\n",
        "quantidades = pegar_dados_de_tuplas(carros_ordenados, 1)\r\n",
        "\r\n",
        "#Criação do gráfico\r\n",
        "plt.xlabel('Anos')\r\n",
        "plt.ylabel('Quantidade de Veiculos Elétricos')\r\n",
        "plt.plot(anos, quantidades) #Grafico de linhas\r\n",
        "plt.bar(anos, quantidades) #Grafico de barras\r\n",
        "plt.savefig('carElecPerAno.png')"
      ],
      "execution_count": null,
      "outputs": [
        {
          "output_type": "display_data",
          "data": {
            "image/png": "[encoded data removed]",
            "text/plain": [
              "<Figure size 432x288 with 1 Axes>"
            ]
          },
          "metadata": {
            "tags": [],
            "needs_background": "light"
          }
        }
      ]
    }
  ]
}